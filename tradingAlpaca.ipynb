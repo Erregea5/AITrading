{
  "nbformat": 4,
  "nbformat_minor": 0,
  "metadata": {
    "colab": {
      "provenance": []
    },
    "kernelspec": {
      "name": "python3",
      "display_name": "Python 3"
    },
    "language_info": {
      "name": "python"
    }
  },
  "cells": [
    {
      "cell_type": "markdown",
      "source": [
        "https://chat.openai.com/share/f0c24d12-963d-4525-aa10-7d683a304579\n"
      ],
      "metadata": {
        "id": "kggjgt4rSUhb"
      }
    },
    {
      "cell_type": "code",
      "execution_count": null,
      "metadata": {
        "id": "tlfo-x4vevIE"
      },
      "outputs": [],
      "source": [
        "!pip install alpaca-py"
      ]
    },
    {
      "cell_type": "code",
      "source": [
        "!pip install torch"
      ],
      "metadata": {
        "id": "9Al91csuf6OQ"
      },
      "execution_count": null,
      "outputs": []
    },
    {
      "cell_type": "code",
      "source": [
        "!set APCA_API_BASE_URL=https://paper-api.alpaca.markets"
      ],
      "metadata": {
        "id": "xMLyidagf8j-"
      },
      "execution_count": null,
      "outputs": []
    },
    {
      "cell_type": "code",
      "source": [
        "import torch\n",
        "from matplotlib import pyplot as plt\n",
        "import numpy as np"
      ],
      "metadata": {
        "id": "wXJjjZVofRcC"
      },
      "execution_count": null,
      "outputs": []
    },
    {
      "cell_type": "code",
      "source": [
        "from alpaca.trading.client import *\n",
        "from alpaca.trading.requests import *\n",
        "from alpaca.data.historical import StockHistoricalDataClient, CryptoHistoricalDataClient\n",
        "from alpaca.data.requests import StockBarsRequest, CryptoBarsRequest\n",
        "from alpaca.data.live import CryptoDataStream, StockDataStream\n",
        "from alpaca.trading.enums import OrderSide, TimeInForce, QueryOrderStatus\n",
        "from alpaca.data.timeframe import TimeFrame\n",
        "from datetime import datetime"
      ],
      "metadata": {
        "id": "QXSToEK6gPJO"
      },
      "execution_count": null,
      "outputs": []
    },
    {
      "cell_type": "markdown",
      "source": [
        "# Plan:\n",
        "collect data D from historical api,\n",
        "process it to be useful,\n",
        "train model X with data.\n",
        "D can be any data spaced apart by any type of interval.\n",
        "\n",
        "## Goal:\n",
        "\n",
        "X needs to make decisions of buy and selling stocks as accurately as possible.\n",
        "until Day Trading is permited, X must make trades of minimum a day long. X must not risk large amounts. X must give priorities to stocks which have higher success ratios to allocate more money to them.\n",
        "\n",
        "D must be information dense with respect to timeframe. D must not be redundant to conserve speed.\n",
        "\n",
        "## Future:\n",
        "\n",
        "When I have access to a powerful enough GPU, train X on as many stocks as possible. Then finetune copies of X for multiple stocks. Finally, cash in."
      ],
      "metadata": {
        "id": "O2ZDbIFMhHM9"
      }
    },
    {
      "cell_type": "code",
      "source": [
        "api_key = \"*\"\n",
        "secret_key = \"*\"\n",
        "alpaca_client = TradingClient(api_key,secret_key,paper = True)\n",
        "\n",
        "\n",
        "def sumbit_order(buy_or_sell,symbol,money):\n",
        "  order_data = MarketOrderRequest(\n",
        "    symbol = symbol,\n",
        "    notional = money,\n",
        "    side = OrderSide.BUY if buy_or_sell=='buy' else OrderSide.SELL,\n",
        "    time_in_force = TimeInForce.DAY\n",
        "  )\n",
        "  alpaca_client.submit_order(order_data)"
      ],
      "metadata": {
        "id": "jnir3jjdhFus"
      },
      "execution_count": null,
      "outputs": []
    },
    {
      "cell_type": "code",
      "source": [
        "r=CryptoBarsRequest(symbol_or_symbols=\"BTC/USD\",timeframe=TimeFrame.Minute,start=datetime(2023,8,25),end=datetime(2023,8,26))\n",
        "b=historical_data_client.get_crypto_bars(r).df"
      ],
      "metadata": {
        "id": "qPModTGRJBCe"
      },
      "execution_count": null,
      "outputs": []
    },
    {
      "cell_type": "code",
      "source": [
        "b"
      ],
      "metadata": {
        "id": "DsqPXYhe6BXc"
      },
      "execution_count": null,
      "outputs": []
    },
    {
      "cell_type": "code",
      "source": [
        "historical_data_client = CryptoHistoricalDataClient(api_key,secret_key)\n",
        "\n",
        "#symbol -> which stock to buy\n",
        "#seq_length -> how many days are being used to predict next day\n",
        "def getHistoricalData(symbol, seq_length, start_date, end_date, time_frame=TimeFrame.Minute):\n",
        "  request_params = CryptoBarsRequest(\n",
        "                        symbol_or_symbols = symbol,\n",
        "                        timeframe = time_frame,\n",
        "                        start = start_date,\n",
        "                        end = end_date\n",
        "                 )\n",
        "  bars = historical_data_client.get_crypto_bars(request_params).df\n",
        "  open_max=np.max(bars.open)\n",
        "  high_max=np.max(bars.high)\n",
        "  low_max=np.max(bars.low)\n",
        "  close_max=np.max(bars.close)\n",
        "  volume_max=np.max(bars.volume)\n",
        "\n",
        "  data = np.array([[bars.open[i]/open_max, bars.high[i]/high_max, bars.low[i]/low_max, bars.close[i]/close_max, bars.volume[i]/volume_max]\n",
        "                   for i in range(len(bars))])\n",
        "  data = data.astype(np.float32)\n",
        "\n",
        "  sequences = []\n",
        "  for i in range(len(data) - seq_length):\n",
        "      seq = data[i:i + seq_length]\n",
        "      label = data[i + seq_length]\n",
        "      sequences.append((seq, label))\n",
        "\n",
        "  return sequences, open_max\n"
      ],
      "metadata": {
        "id": "QZtMh0iuksak"
      },
      "execution_count": null,
      "outputs": []
    },
    {
      "cell_type": "code",
      "source": [
        "data_stream = CryptoDataStream(api_key, secret_key)\n",
        "\n",
        "async def quote_data_handler(data):\n",
        "    # quote data will arrive here\n",
        "    print(data)\n",
        "\n",
        "data_stream.subscribe_bars(quote_data_handler,\"BTC/USD\")\n"
      ],
      "metadata": {
        "id": "5SUzLpFEPPm2"
      },
      "execution_count": null,
      "outputs": []
    },
    {
      "cell_type": "code",
      "source": [
        "#data_stream.unsubscribe_quotes(\"BTC/USD\")\n"
      ],
      "metadata": {
        "id": "JsMj4v5gayc1"
      },
      "execution_count": null,
      "outputs": []
    },
    {
      "cell_type": "code",
      "source": [
        "data_stream.close()"
      ],
      "metadata": {
        "colab": {
          "base_uri": "https://localhost:8080/"
        },
        "id": "ssi9NiRvbjYr",
        "outputId": "37f03774-206e-4cc2-fe07-7288c18961e3"
      },
      "execution_count": null,
      "outputs": [
        {
          "output_type": "execute_result",
          "data": {
            "text/plain": [
              "<coroutine object BaseStream.close at 0x7842aedf5bd0>"
            ]
          },
          "metadata": {},
          "execution_count": 98
        }
      ]
    },
    {
      "cell_type": "code",
      "source": [
        "try:\n",
        "  await data_stream._run_forever()\n",
        "except KeyboardInterrupt:\n",
        "  print(\"keyboard interrupt, bye\")\n",
        "  pass\n",
        "data_stream.close()"
      ],
      "metadata": {
        "id": "lkmk1KDyWFWr"
      },
      "execution_count": null,
      "outputs": []
    },
    {
      "cell_type": "code",
      "source": [
        "sequences, data_max = getHistoricalData(\"BTC/USD\",4,start_date=datetime(2022,7,1),end_date=datetime(2022,7,11))\n",
        "train_size = int(0.8 * len(sequences))\n",
        "train_data = sequences[:train_size]\n",
        "test_data = sequences[train_size:]\n",
        "train_loader = torch.utils.data.DataLoader(train_data, batch_size=32, shuffle=True)\n",
        "test_loader = torch.utils.data.DataLoader(test_data, batch_size=32, shuffle=True)"
      ],
      "metadata": {
        "id": "Jt7epStTnLxg"
      },
      "execution_count": null,
      "outputs": []
    },
    {
      "cell_type": "code",
      "source": [
        "len(sequences)"
      ],
      "metadata": {
        "colab": {
          "base_uri": "https://localhost:8080/"
        },
        "id": "1m1E3oTgMvfX",
        "outputId": "ca7938c2-d2a3-42ab-a181-9ab7cb6e9017"
      },
      "execution_count": null,
      "outputs": [
        {
          "output_type": "execute_result",
          "data": {
            "text/plain": [
              "14393"
            ]
          },
          "metadata": {},
          "execution_count": 10
        }
      ]
    },
    {
      "cell_type": "code",
      "source": [
        "torch."
      ],
      "metadata": {
        "colab": {
          "base_uri": "https://localhost:8080/"
        },
        "id": "rMkzVyzswKeS",
        "outputId": "9a1659ce-12fb-4274-9d64-6e61d858b718"
      },
      "execution_count": null,
      "outputs": [
        {
          "output_type": "execute_result",
          "data": {
            "text/plain": [
              "device(type='xpu')"
            ]
          },
          "metadata": {},
          "execution_count": 6
        }
      ]
    },
    {
      "cell_type": "code",
      "source": [
        "class LSTM(torch.nn.Module):\n",
        "    def __init__(self, input_size, hidden_size, num_layers, output_size):\n",
        "        super(LSTM, self).__init__()\n",
        "        self.hidden_size = hidden_size\n",
        "        self.num_layers = num_layers\n",
        "        self.lstm = torch.nn.LSTM(input_size, hidden_size, num_layers, batch_first=True)\n",
        "        self.fc = torch.nn.Linear(hidden_size, output_size)\n",
        "\n",
        "    def forward(self, x):\n",
        "        out, (h,c) = self.lstm(x)\n",
        "\n",
        "        out = self.fc(out[:, -1, :])\n",
        "        return out"
      ],
      "metadata": {
        "id": "OALkx0gbouIh"
      },
      "execution_count": null,
      "outputs": []
    },
    {
      "cell_type": "code",
      "source": [
        "input_size = 5 #ohlcv\n",
        "hidden_size = 50\n",
        "num_layers = 2\n",
        "output_size = 1\n",
        "num_epochs = 100\n",
        "learning_rate = 0.001\n",
        "\n",
        "model = LSTM(input_size, hidden_size, num_layers, output_size)\n",
        "loss_fn = torch.nn.MSELoss()\n",
        "optimizer = torch.optim.Adam(model.parameters(), lr=learning_rate)"
      ],
      "metadata": {
        "id": "QYdpn0aABo0C"
      },
      "execution_count": null,
      "outputs": []
    },
    {
      "cell_type": "code",
      "source": [
        "a=0\n",
        "for seq, labels in train_loader:\n",
        "  a=seq\n",
        "  break"
      ],
      "metadata": {
        "id": "xQBUZN2-seaj"
      },
      "execution_count": null,
      "outputs": []
    },
    {
      "cell_type": "code",
      "source": [
        "a.shape"
      ],
      "metadata": {
        "colab": {
          "base_uri": "https://localhost:8080/"
        },
        "id": "GBS3Fd-AhRiJ",
        "outputId": "c195370a-f80e-48f5-9d1f-8f4699110e96"
      },
      "execution_count": null,
      "outputs": [
        {
          "output_type": "execute_result",
          "data": {
            "text/plain": [
              "torch.Size([32, 4, 5])"
            ]
          },
          "metadata": {},
          "execution_count": 39
        }
      ]
    },
    {
      "cell_type": "code",
      "source": [
        "# Training\n",
        "losses=[]\n",
        "def train():\n",
        "  for epoch in range(num_epochs):\n",
        "    for seq, labels in train_loader:\n",
        "      optimizer.zero_grad()\n",
        "      outputs = model(seq)\n",
        "      loss = loss_fn(outputs[:,0], labels[:,0])\n",
        "      losses.append(loss.detach().numpy())\n",
        "      loss.backward()\n",
        "      optimizer.step()\n",
        "\n",
        "\n",
        "    if (epoch + 1) % 10 == 0:\n",
        "      print(f'Epoch [{epoch+1}/{num_epochs}] Loss: {loss.item()}')\n",
        "  plt.plot(losses)"
      ],
      "metadata": {
        "id": "OFc1hA4HK_nQ"
      },
      "execution_count": null,
      "outputs": []
    },
    {
      "cell_type": "code",
      "source": [
        "# Evaluating\n",
        "def eval():\n",
        "  model.eval()\n",
        "  eval_loss=0\n",
        "  eval_n=0\n",
        "  with torch.no_grad():\n",
        "    for seq, labels in test_loader:\n",
        "      outputs = model(seq)\n",
        "      loss = loss_fn(outputs[:,0], labels[:,0])\n",
        "      n=len(seq)\n",
        "      eval_n+=n\n",
        "      eval_loss+=loss*n\n",
        "\n",
        "    eval_loss/=eval_n\n",
        "    print(f'Loss: {eval_loss.item()}')"
      ],
      "metadata": {
        "id": "wOHFFYnJXrV0"
      },
      "execution_count": null,
      "outputs": []
    },
    {
      "cell_type": "code",
      "source": [
        "# Testing\n",
        "def test(n=1):\n",
        "  model.eval()\n",
        "  with torch.no_grad():\n",
        "    for seq, labels in test_loader:\n",
        "      outputs = model(seq)\n",
        "      for o,l in zip(outputs.numpy(),labels):\n",
        "        n-=1\n",
        "        if n<0:\n",
        "          return\n",
        "        print(f'Output: {o[0]*data_max}',f'Label: {l.numpy()[0]*data_max}','\\n')\n"
      ],
      "metadata": {
        "id": "tjykF2_CmJXI"
      },
      "execution_count": null,
      "outputs": []
    },
    {
      "cell_type": "code",
      "source": [
        "test(100)"
      ],
      "metadata": {
        "id": "5-eaarJxRZWo"
      },
      "execution_count": null,
      "outputs": []
    },
    {
      "cell_type": "markdown",
      "source": [],
      "metadata": {
        "id": "RoBHYr4XSSp-"
      }
    },
    {
      "cell_type": "code",
      "source": [
        "for name, params in model.named_parameters():\n",
        "  print(name, params)"
      ],
      "metadata": {
        "id": "3UzwgbRPelFn"
      },
      "execution_count": null,
      "outputs": []
    },
    {
      "cell_type": "code",
      "source": [
        "def eval(model):\n",
        "  model.eval()\n",
        "  model."
      ],
      "metadata": {
        "id": "fS54lPwHCbBP"
      },
      "execution_count": null,
      "outputs": []
    },
    {
      "cell_type": "code",
      "source": [
        "x=torch.tensor([1,0,0])\n",
        "x.numpy()[0]"
      ],
      "metadata": {
        "colab": {
          "base_uri": "https://localhost:8080/"
        },
        "id": "2PR7ZnDPHthJ",
        "outputId": "380eab70-8b3f-4424-9530-6eb5927f382b"
      },
      "execution_count": null,
      "outputs": [
        {
          "output_type": "execute_result",
          "data": {
            "text/plain": [
              "1"
            ]
          },
          "metadata": {},
          "execution_count": 41
        }
      ]
    }
  ]
}